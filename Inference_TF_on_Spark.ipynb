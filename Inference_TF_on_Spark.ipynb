{
 "cells": [
  {
   "cell_type": "markdown",
   "metadata": {},
   "source": [
    "# Using TensorFlow on Spark Exploration\n",
    "\n",
    "## Test Environment:\n",
    "* Python = 3.9.7\n",
    "* TensorFlow = 2.7.0\n",
    "* PySpark = 3.1.2\n",
    "\n",
    "## Inferencing Images with Trained Model\n",
    "### Importing packages"
   ]
  },
  {
   "cell_type": "code",
   "execution_count": null,
   "metadata": {},
   "outputs": [],
   "source": [
    "import tensorflow as tf\n",
    "from pyspark import SparkContext\n",
    "sc = SparkContext()"
   ]
  },
  {
   "cell_type": "markdown",
   "metadata": {},
   "source": [
    "### Broadcasting current model to each cluster\n",
    "This block of codes broadcasts the trained model to each cluster using sc.broadcast"
   ]
  },
  {
   "cell_type": "code",
   "execution_count": null,
   "metadata": {},
   "outputs": [],
   "source": [
    "with tf.gfile.FastGFile( 'image_path') as f:\n",
    "    model_data = f.read()\n",
    "    model_data_bc = sc.broadcast(model_data)"
   ]
  },
  {
   "cell_type": "markdown",
   "metadata": {},
   "source": [
    "### Applying the model to the images in each node\n",
    "This block of codes runs the model on the ditributed nodes"
   ]
  },
  {
   "cell_type": "code",
   "execution_count": null,
   "metadata": {},
   "outputs": [],
   "source": [
    "# Creates a new TensorFlow graph   \n",
    "def apply_batch(image_url):\n",
    "  with tf.Graph().as_default() as g:\n",
    "    graph_def = tf.GraphDef()\n",
    "    graph_def.ParseFromString(model_data_bc.value)\n",
    "    tf.import_graph_def(graph_def, name='')\n",
    "\n",
    "# Loads the image data from the URL:\n",
    "  image_data = urllib.request.urlopen(img_url, timeout=1.0).read()\n",
    "\n",
    "# Runs the model\n",
    "  with tf.Session() as sess:\n",
    "    softmax_tensor = sess.graph.get_tensor_by_name('softmax:0')\n",
    "    predictions = sess.run(softmax_tensor, {'DecodeJpeg/contents:0': image_data})\n",
    "  return predictions"
   ]
  }
 ],
 "metadata": {
  "interpreter": {
   "hash": "3ae4d611e4ef8f33170557fe2e51b0dd43e56034464f0a404587a1c0a8aeea83"
  },
  "kernelspec": {
   "display_name": "Python 3.8.8 64-bit ('base': conda)",
   "name": "python3"
  },
  "language_info": {
   "name": "python",
   "version": "3.8.8"
  },
  "orig_nbformat": 4
 },
 "nbformat": 4,
 "nbformat_minor": 2
}
